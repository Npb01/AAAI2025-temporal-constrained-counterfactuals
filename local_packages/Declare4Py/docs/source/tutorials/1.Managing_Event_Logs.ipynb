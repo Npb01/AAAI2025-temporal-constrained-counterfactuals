{
 "cells": [
  {
   "cell_type": "markdown",
   "id": "5279e90c",
   "metadata": {},
   "source": [
    "# Managing Event Logs\n",
    "\n",
    "This tutorial will go through the steps necessary to import and manage an event log.\n",
    "\n",
    "## The `D4PyEventLog` class\n",
    "\n",
    "The `Declare4Py.D4PyEventLog.D4PyEventLog` class is responsible for managing with `.xes` event log. It methods utilities for importing an event log, retrieving useful information, exporting it in a `.xes` format or converting it in a Pandas dataframe and computing the frequent itemsets of activities or other attributes.\n",
    "\n",
    "We show how to instantiate a `D4PyEventLog`, notice that the name of the case id is required."
   ]
  },
  {
   "cell_type": "code",
   "execution_count": 1,
   "id": "8b6c9e04",
   "metadata": {},
   "source": [
    "import os\n",
    "from Declare4Py.D4PyEventLog import D4PyEventLog\n",
    "\n",
    "event_log: D4PyEventLog = D4PyEventLog(case_name=\"case:concept:name\")"
   ],
   "outputs": []
  },
  {
   "cell_type": "markdown",
   "id": "1225a100",
   "metadata": {},
   "source": [
    "The next step is the parsing of the log with the `parse_xes_log` function. Logs can be passed both in the `.xes` or `xes.gz` formats."
   ]
  },
  {
   "cell_type": "code",
   "execution_count": 6,
   "id": "e5ae55fa",
   "metadata": {},
   "source": [
    "log_path = os.path.join(\"../../../\", \"tests\", \"test_logs\", \"Sepsis Cases.xes.gz\")\n",
    "\n",
    "# Parses a xes log to EventLog\n",
    "event_log.parse_xes_log(log_path)"
   ],
   "outputs": []
  },
  {
   "cell_type": "markdown",
   "id": "0eb4454a",
   "metadata": {},
   "source": [
    "Once the event log has been successfully parsed, basic information are available such as the log itself, its length, the case name, the concept name and the timestamp name."
   ]
  },
  {
   "cell_type": "code",
   "execution_count": 7,
   "id": "def7e392",
   "metadata": {},
   "source": [
    "# Print the parsed log\n",
    "print(\"This is the log:\")\n",
    "print(event_log.get_log())\n",
    "print(\"--------------------------------------\")\n",
    "\n",
    "# Print the number of cases in the log\n",
    "print(\"Number of cases:\")\n",
    "print(event_log.get_length())\n",
    "print(\"--------------------------------------\")\n",
    "\n",
    "# Print the number of cases in the log\n",
    "print(\"Case name:\")\n",
    "print(event_log.get_case_name())\n",
    "print(\"--------------------------------------\")\n",
    "\n",
    "# Print the number of cases in the log\n",
    "print(\"Concept name:\")\n",
    "print(event_log.get_concept_name())\n",
    "print(\"--------------------------------------\")\n",
    "\n",
    "# Print the number of cases in the log\n",
    "print(\"Timestamp name:\")\n",
    "print(event_log.get_timestamp_name())"
   ],
   "outputs": []
  },
  {
   "cell_type": "markdown",
   "id": "d91ab132",
   "metadata": {},
   "source": [
    "### The `get_trace` method\n",
    "\n",
    "The `get_trace` method returns a trace given a numeric index."
   ]
  },
  {
   "cell_type": "code",
   "execution_count": 8,
   "id": "3c01ba4c",
   "metadata": {},
   "source": [
    "event_log.get_trace(3)"
   ],
   "outputs": []
  },
  {
   "cell_type": "markdown",
   "id": "78887621",
   "metadata": {},
   "source": [
    "### The `get_event_attribute_values` method\n",
    "\n",
    "The `get_event_attribute_values` method returns all the values of an attribute that occur in an event log along with their number of occurences."
   ]
  },
  {
   "cell_type": "code",
   "execution_count": 9,
   "id": "682d8841",
   "metadata": {},
   "source": [
    "# Print the set of activity values that are in the log along with their number of occurences\n",
    "print(\"Activity names:\")\n",
    "print(event_log.get_event_attribute_values(event_log.get_concept_name()))\n",
    "print(\"--------------------------------------\")\n",
    "\n",
    "# Print the set of resource values that are in the log along with their number of occurences\n",
    "print(\"Resources names:\")\n",
    "print(event_log.get_event_attribute_values('org:group'))"
   ],
   "outputs": []
  },
  {
   "cell_type": "markdown",
   "id": "57b90a09",
   "metadata": {},
   "source": [
    "### The `get_start_activities` method\n",
    "\n",
    "The `get_start_activities` method returns all the activities that start the traces in the log. The method returns a dictionary where each starting activity is paired with the number of traces that start with that activity."
   ]
  },
  {
   "cell_type": "code",
   "execution_count": 10,
   "id": "eab4c91e",
   "metadata": {},
   "source": [
    "event_log.get_start_activities()"
   ],
   "outputs": []
  },
  {
   "cell_type": "markdown",
   "id": "829d7ef6",
   "metadata": {},
   "source": [
    "### The `get_end_activities` method\n",
    "\n",
    "The `get_end_activities` function returns all the activities that end the traces in the log. The method returns a dictionary where each ending activity is paired with the number of traces that end with that activity."
   ]
  },
  {
   "cell_type": "code",
   "execution_count": 11,
   "id": "09984c00",
   "metadata": {},
   "source": [
    "event_log.get_end_activities()"
   ],
   "outputs": []
  },
  {
   "cell_type": "markdown",
   "id": "8e42a7ae",
   "metadata": {},
   "source": [
    "### The `attribute_log_projection` method\n",
    "\n",
    "A log is a complex data structure that can be explored along several dimensions. The method `attribute_log_projection` projects the cases in the log according to the given input attribute. A projection is a list (the log) of lists (the single cases) containing the value of the attribute."
   ]
  },
  {
   "cell_type": "code",
   "execution_count": 12,
   "id": "77896ad0",
   "metadata": {},
   "source": [
    "# Activity projection\n",
    "for idx, trace in enumerate(event_log.attribute_log_projection(event_log.get_concept_name())):\n",
    "    print(f\"{idx}- {trace}\")\n",
    "print(\"--------------------------------------\")\n",
    "\n",
    "# Resource projection\n",
    "for idx, trace in enumerate(event_log.attribute_log_projection(\"org:group\")):\n",
    "    print(f\"{idx}- {trace}\")"
   ],
   "outputs": []
  },
  {
   "cell_type": "markdown",
   "id": "f0e0eb2a",
   "metadata": {},
   "source": [
    "### The `get_variants` method\n",
    "\n",
    "This method returns all the variants of an event log. It returns a dictionary where the key is a string expressing the variant and the value is a list containing all the traces encoding that variant. The following snippet of code returns the variants in a string format."
   ]
  },
  {
   "cell_type": "code",
   "execution_count": 13,
   "id": "0d511bf5",
   "metadata": {},
   "source": [
    "for idx, variant in enumerate(event_log.get_variants().keys()):\n",
    "    print(f\"{idx}- {variant}\")"
   ],
   "outputs": []
  },
  {
   "cell_type": "markdown",
   "id": "34532b36",
   "metadata": {},
   "source": [
    "### The `to_dataframe` method\n",
    "\n",
    "The event log can be converted in a Pandas dataframe with the `to_dataframe` method."
   ]
  },
  {
   "cell_type": "code",
   "execution_count": 14,
   "id": "a688051c",
   "metadata": {},
   "source": [
    "event_log.to_dataframe()\n",
    "event_log.get_log().head()"
   ],
   "outputs": []
  },
  {
   "cell_type": "markdown",
   "id": "4f8dd30a",
   "metadata": {},
   "source": [
    "### The `to_eventlog` method\n",
    "\n",
    "The event log can be converted in a EventLog with the `to_eventlog` method."
   ]
  },
  {
   "cell_type": "code",
   "execution_count": 15,
   "id": "4a895b28",
   "metadata": {},
   "source": [
    "event_log.to_eventlog()\n",
    "event_log.get_log()"
   ],
   "outputs": []
  },
  {
   "cell_type": "markdown",
   "id": "7c3e6fdf",
   "metadata": {},
   "source": [
    "### The `save_xes` method\n",
    "\n",
    "The event log can be saved in `xes` format with the `save_xes` method."
   ]
  },
  {
   "cell_type": "code",
   "execution_count": 16,
   "id": "3cf82cee",
   "metadata": {},
   "source": [
    "event_log.save_xes(\"saved_log.xes\")"
   ],
   "outputs": []
  },
  {
   "cell_type": "markdown",
   "id": "b617ba75",
   "metadata": {},
   "source": [
    "### The `compute_frequent_itemsets` method\n",
    "\n",
    "The `D4PyEventLog` class offers support for computing the frequent itemsets of attributes in the log. The method `compute_frequent_itemsets` takes as input the `min_support` of the itemsets, the name of the case id attribute, a list with the names of the attributes you want to discover the itemsets, the `algorithm` to perform the computation (available `fpgrowth` and `apriori`) and `len_itemset` indicating the maximum length of the itemsets, the default is `None`."
   ]
  },
  {
   "cell_type": "code",
   "execution_count": 17,
   "id": "f4825aa3",
   "metadata": {},
   "source": [
    "frequent_itemsets = event_log.compute_frequent_itemsets(min_support=0.8, case_id_col=event_log.get_case_name(), categorical_attributes=['concept:name'], algorithm='fpgrowth', len_itemset=3)\n",
    "frequent_itemsets"
   ],
   "outputs": []
  },
  {
   "cell_type": "code",
   "execution_count": null,
   "id": "732867e4-cc9c-472b-ad0c-75ebf5d49912",
   "metadata": {},
   "source": [],
   "outputs": []
  }
 ],
 "metadata": {
  "kernelspec": {
   "display_name": "Python 3 (ipykernel)",
   "language": "python",
   "name": "python3"
  },
  "language_info": {
   "codemirror_mode": {
    "name": "ipython",
    "version": 3
   },
   "file_extension": ".py",
   "mimetype": "text/x-python",
   "name": "python",
   "nbconvert_exporter": "python",
   "pygments_lexer": "ipython3",
   "version": "3.11.4"
  },
  "vscode": {
   "interpreter": {
    "hash": "05d4b7c3cd0aad81aa9df4db91d3eeeb2841d831664bc3cb6ce2ef5b755f059a"
   }
  }
 },
 "nbformat": 4,
 "nbformat_minor": 5
}
