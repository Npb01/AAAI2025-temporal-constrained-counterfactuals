{
 "cells": [
  {
   "cell_type": "markdown",
   "id": "32aa537a",
   "metadata": {},
   "source": [
    "# Log Filtering with Linear Temporal Properties\n",
    "\n",
    "The filtering of a log according to Linear Temporal Logic properties is implemented with an LTLf checker based on automata. First of all we create an `D4PyEventLog` object that wraps the log."
   ]
  },
  {
   "cell_type": "code",
   "execution_count": 1,
   "id": "9d990bb6",
   "metadata": {},
   "source": [
    "import os\n",
    "\n",
    "from Declare4Py.D4PyEventLog import D4PyEventLog\n",
    "\n",
    "log_path = os.path.join(\"../../../\", \"tests\", \"test_logs\",\"Sepsis Cases.xes.gz\")\n",
    "event_log = D4PyEventLog()\n",
    "event_log.parse_xes_log(log_path)"
   ],
   "outputs": []
  },
  {
   "cell_type": "markdown",
   "id": "c94bd30b",
   "metadata": {},
   "source": [
    "The classes `LTLTemplate` and `LTLModel` are responsible for the LTLf template definitions and their instantiations into LTLf models given some activities and/or payload names:"
   ]
  },
  {
   "cell_type": "code",
   "execution_count": 2,
   "id": "0bd4cf1e",
   "metadata": {},
   "source": [
    "from Declare4Py.ProcessModels.LTLModel import LTLTemplate\n",
    "from Declare4Py.ProcessModels.LTLModel import LTLModel\n",
    "    \n",
    "template : LTLTemplate = LTLTemplate('is_first_state_a')\n",
    "model_1 : LTLModel= template.fill_template(['ER Registration'], attr_type=['concept:name'])\n",
    "\n",
    "template: LTLTemplate = LTLTemplate('eventually_a')\n",
    "model_2 : LTLModel = template.fill_template(['Leucocytes'], attr_type=['concept:name'])"
   ],
   "outputs": []
  },
  {
   "cell_type": "markdown",
   "id": "49a04a06",
   "metadata": {},
   "source": [
    "The class `LTLAnalyzer` is therefore needed to analyze the log and filtering its traces according to multiple input LTLf models."
   ]
  },
  {
   "cell_type": "code",
   "execution_count": 3,
   "id": "640ee035",
   "metadata": {},
   "source": [
    "from Declare4Py.ProcessMiningTasks.ConformanceChecking.LTLAnalyzer import LTLAnalyzer\n",
    "\n",
    "analyzer = LTLAnalyzer(event_log, [model_1, model_2])\n",
    "conf_check_res_df = analyzer.run_multiple_models(minimize_automaton=False)"
   ],
   "outputs": []
  },
  {
   "cell_type": "markdown",
   "id": "357cc566",
   "metadata": {},
   "source": [
    "The output is a Pandas DataFrame that can be easily queried."
   ]
  },
  {
   "cell_type": "code",
   "execution_count": 4,
   "id": "044c6751",
   "metadata": {},
   "source": [
    "print(f\"Accepted traces: {len(conf_check_res_df[conf_check_res_df['accepted'] == True])}\")\n",
    "conf_check_res_df"
   ],
   "outputs": []
  },
  {
   "cell_type": "markdown",
   "id": "65182b29",
   "metadata": {},
   "source": [
    "The same easy coding holds also for Branched-DECLARE templates:"
   ]
  },
  {
   "cell_type": "code",
   "execution_count": 5,
   "id": "a7681857",
   "metadata": {},
   "source": [
    "template = LTLTemplate('alternate_response')\n",
    "activities_a = [\"Er Registration\", \"IV Liquid\"]\n",
    "activities_b = [\"CRP\", \"IV Antibiotics\"]\n",
    "model_1 = template.fill_template(activities_a, activities_b)\n",
    "\n",
    "template = LTLTemplate('not_precedence')\n",
    "activities_a = [\"ER Sepsis Triage\", \"CRP\"]\n",
    "activities_b = [\"IV Antibiotics\", \"LacticAcid\"]\n",
    "model_2 = template.fill_template(activities_a, activities_b)\n",
    "\n",
    "analyzer = LTLAnalyzer(event_log, [model_1, model_2])\n",
    "conf_check_res_df = analyzer.run_multiple_models()"
   ],
   "outputs": []
  },
  {
   "cell_type": "markdown",
   "id": "7995aecc",
   "metadata": {},
   "source": [
    "We therefore access the Pandas Dataframe"
   ]
  },
  {
   "cell_type": "code",
   "execution_count": 6,
   "id": "eaf068af",
   "metadata": {},
   "source": [
    "print(f\"Accepted traces: {len(conf_check_res_df[conf_check_res_df['accepted'] == True])}\")\n",
    "conf_check_res_df"
   ],
   "outputs": []
  },
  {
   "cell_type": "markdown",
   "id": "21c94d81",
   "metadata": {},
   "source": [
    "More information about managing process models and the LTLf or B-Declare templates can be found in tutorials 2 and 3."
   ]
  }
 ],
 "metadata": {
  "kernelspec": {
   "display_name": "Python 3 (ipykernel)",
   "language": "python",
   "name": "python3"
  },
  "language_info": {
   "codemirror_mode": {
    "name": "ipython",
    "version": 3
   },
   "file_extension": ".py",
   "mimetype": "text/x-python",
   "name": "python",
   "nbconvert_exporter": "python",
   "pygments_lexer": "ipython3",
   "version": "3.11.4"
  }
 },
 "nbformat": 4,
 "nbformat_minor": 5
}
